{
 "cells": [
  {
   "cell_type": "markdown",
   "id": "a6f5db4a",
   "metadata": {},
   "source": [
    "# Sismique active S : Conversion de formats"
   ]
  },
  {
   "cell_type": "code",
   "execution_count": 1,
   "id": "1fad28dc-6f38-4e09-a9a0-161edf8273c0",
   "metadata": {},
   "outputs": [],
   "source": [
    "import numpy as np\n",
    "import matplotlib.pyplot as plt\n",
    "\n",
    "import pandas as pd\n",
    "\n",
    "from scipy import stats\n",
    "\n",
    "import shutil"
   ]
  },
  {
   "cell_type": "markdown",
   "id": "1bb55b1b",
   "metadata": {},
   "source": [
    "## Lecture de la géométrie du profil"
   ]
  },
  {
   "cell_type": "code",
   "execution_count": 2,
   "id": "4cbe7e64",
   "metadata": {},
   "outputs": [],
   "source": [
    "from geometry import *"
   ]
  },
  {
   "cell_type": "code",
   "execution_count": 3,
   "id": "4ea76ba9",
   "metadata": {},
   "outputs": [
    {
     "name": "stdout",
     "output_type": "stream",
     "text": [
      "import numpy as np\r\n",
      "import pandas as pd\r\n",
      "import os\r\n",
      "\r\n",
      "gnss = pd.read_csv('data/gnss_sismique_s.csv')\r\n",
      "gnss['geophone'] = gnss['Name'].map(lambda e: int(e.split('.')[-1]))\r\n",
      "gnss = gnss.set_index('geophone')\r\n",
      "gnss = gnss.sort_index()\r\n",
      "\r\n",
      "files_pointage = [f for f in os.listdir('data/pointage') if f.endswith('txt')]\r\n",
      "\r\n",
      "dx = 4\r\n",
      "offset = 2\r\n",
      "ng = len(gnss['A'].values)\r\n",
      "ns = len(files_pointage)\r\n",
      "x_geophs = np.arange(ng)*dx # géophones espacés de 4m\r\n",
      "x_shots = np.arange(ns)*dx + offset # sources espacées de 4m entre 2 géophones\r\n",
      "x = np.concatenate((x_geophs, x_shots))\r\n",
      "x.sort()\r\n",
      "y_geophs = gnss['A'].values\r\n",
      "y = np.interp(x, x_geophs, y_geophs) # interpolation de l'altitude des capteurs (mesurées) pour estimer celle des sources\r\n",
      "y_shots = y[0:-1:2]"
     ]
    }
   ],
   "source": [
    "!cat geometry.py"
   ]
  },
  {
   "cell_type": "code",
   "execution_count": 4,
   "id": "f50b9f8b-e567-4d88-b774-d7345e0e242f",
   "metadata": {},
   "outputs": [
    {
     "data": {
      "text/html": [
       "<div>\n",
       "<style scoped>\n",
       "    .dataframe tbody tr th:only-of-type {\n",
       "        vertical-align: middle;\n",
       "    }\n",
       "\n",
       "    .dataframe tbody tr th {\n",
       "        vertical-align: top;\n",
       "    }\n",
       "\n",
       "    .dataframe thead th {\n",
       "        text-align: right;\n",
       "    }\n",
       "</style>\n",
       "<table border=\"1\" class=\"dataframe\">\n",
       "  <thead>\n",
       "    <tr style=\"text-align: right;\">\n",
       "      <th></th>\n",
       "      <th>Name</th>\n",
       "      <th>Latitude</th>\n",
       "      <th>Longitude</th>\n",
       "      <th>EllipsoidHeight</th>\n",
       "      <th>TimeStamp</th>\n",
       "      <th>X</th>\n",
       "      <th>Y</th>\n",
       "      <th>A</th>\n",
       "    </tr>\n",
       "    <tr>\n",
       "      <th>geophone</th>\n",
       "      <th></th>\n",
       "      <th></th>\n",
       "      <th></th>\n",
       "      <th></th>\n",
       "      <th></th>\n",
       "      <th></th>\n",
       "      <th></th>\n",
       "      <th></th>\n",
       "    </tr>\n",
       "  </thead>\n",
       "  <tbody>\n",
       "    <tr>\n",
       "      <th>1</th>\n",
       "      <td>ONDES.GR1.1</td>\n",
       "      <td>48.491419</td>\n",
       "      <td>7.288737</td>\n",
       "      <td>713.242974</td>\n",
       "      <td>2024-09-04T15:10:04.420</td>\n",
       "      <td>6.829844e+06</td>\n",
       "      <td>1.016730e+06</td>\n",
       "      <td>664.504873</td>\n",
       "    </tr>\n",
       "    <tr>\n",
       "      <th>2</th>\n",
       "      <td>ONDES.GR1.2</td>\n",
       "      <td>48.491391</td>\n",
       "      <td>7.288704</td>\n",
       "      <td>713.303219</td>\n",
       "      <td>2024-09-04T15:10:28.280</td>\n",
       "      <td>6.829841e+06</td>\n",
       "      <td>1.016728e+06</td>\n",
       "      <td>664.564993</td>\n",
       "    </tr>\n",
       "    <tr>\n",
       "      <th>3</th>\n",
       "      <td>ONDES.GR1.3</td>\n",
       "      <td>48.491363</td>\n",
       "      <td>7.288673</td>\n",
       "      <td>713.271782</td>\n",
       "      <td>2024-09-04T15:10:46.900</td>\n",
       "      <td>6.829837e+06</td>\n",
       "      <td>1.016726e+06</td>\n",
       "      <td>664.533426</td>\n",
       "    </tr>\n",
       "    <tr>\n",
       "      <th>4</th>\n",
       "      <td>ONDES.GR1.4</td>\n",
       "      <td>48.491334</td>\n",
       "      <td>7.288640</td>\n",
       "      <td>713.350197</td>\n",
       "      <td>2024-09-04T15:11:05.850</td>\n",
       "      <td>6.829834e+06</td>\n",
       "      <td>1.016723e+06</td>\n",
       "      <td>664.611712</td>\n",
       "    </tr>\n",
       "    <tr>\n",
       "      <th>5</th>\n",
       "      <td>ONDES.GR1.5</td>\n",
       "      <td>48.491305</td>\n",
       "      <td>7.288607</td>\n",
       "      <td>713.588551</td>\n",
       "      <td>2024-09-04T15:11:25.210</td>\n",
       "      <td>6.829831e+06</td>\n",
       "      <td>1.016721e+06</td>\n",
       "      <td>664.849936</td>\n",
       "    </tr>\n",
       "  </tbody>\n",
       "</table>\n",
       "</div>"
      ],
      "text/plain": [
       "                 Name   Latitude  Longitude  EllipsoidHeight  \\\n",
       "geophone                                                       \n",
       "1         ONDES.GR1.1  48.491419   7.288737       713.242974   \n",
       "2         ONDES.GR1.2  48.491391   7.288704       713.303219   \n",
       "3         ONDES.GR1.3  48.491363   7.288673       713.271782   \n",
       "4         ONDES.GR1.4  48.491334   7.288640       713.350197   \n",
       "5         ONDES.GR1.5  48.491305   7.288607       713.588551   \n",
       "\n",
       "                        TimeStamp            X             Y            A  \n",
       "geophone                                                                   \n",
       "1         2024-09-04T15:10:04.420  6.829844e+06  1.016730e+06  664.504873  \n",
       "2         2024-09-04T15:10:28.280  6.829841e+06  1.016728e+06  664.564993  \n",
       "3         2024-09-04T15:10:46.900  6.829837e+06  1.016726e+06  664.533426  \n",
       "4         2024-09-04T15:11:05.850  6.829834e+06  1.016723e+06  664.611712  \n",
       "5         2024-09-04T15:11:25.210  6.829831e+06  1.016721e+06  664.849936  "
      ]
     },
     "execution_count": 4,
     "metadata": {},
     "output_type": "execute_result"
    }
   ],
   "source": [
    "gnss.head()"
   ]
  },
  {
   "cell_type": "code",
   "execution_count": 5,
   "id": "75af69ce",
   "metadata": {},
   "outputs": [
    {
     "name": "stdout",
     "output_type": "stream",
     "text": [
      "Nombre de geophones 21\n",
      "Nombre de shots (sources) 20\n",
      "Nombre total de données 420\n"
     ]
    }
   ],
   "source": [
    "print('Nombre de geophones', ng)\n",
    "print('Nombre de shots (sources)', ns)\n",
    "print('Nombre total de données', ns*ng)"
   ]
  },
  {
   "cell_type": "code",
   "execution_count": 6,
   "id": "2c09ce96",
   "metadata": {},
   "outputs": [],
   "source": [
    "path_pointage = 'data/pointage'"
   ]
  },
  {
   "cell_type": "markdown",
   "id": "15ef8dcd",
   "metadata": {},
   "source": [
    "## Pygimli\n",
    "data.sgt"
   ]
  },
  {
   "cell_type": "code",
   "execution_count": 7,
   "id": "e11cacbf",
   "metadata": {},
   "outputs": [],
   "source": [
    "path_pygimli = 'data/sgt'"
   ]
  },
  {
   "cell_type": "code",
   "execution_count": 8,
   "id": "747957f0",
   "metadata": {},
   "outputs": [],
   "source": [
    "xy = np.array((x, y)).T # positions de tous les capteurs et receveurs"
   ]
  },
  {
   "cell_type": "raw",
   "id": "4b8071ef",
   "metadata": {},
   "source": [
    "s = np.zeros(ns*ng, dtype=int)\n",
    "g = np.zeros(ns*ng, dtype=int)\n",
    "t = np.zeros(ns*ng, dtype=float)\n",
    "i = 0\n",
    "with open('data/pointage.txt', 'r') as f: # reading this terrible file format TODO : read from individual files\n",
    "    for line in f.readlines():\n",
    "        l = line.split()\n",
    "        if len(l)>2:\n",
    "            ti = l[0]\n",
    "            d = l[1]\n",
    "            f = open(f'data/pointage/{ti}.txt', 'w') # clear content of old file and opens it\n",
    "        elif l:\n",
    "            d = l[0]\n",
    "        else:\n",
    "            continue\n",
    "        f.write(f'{d} {l[-1]}\\n') # f'{d} {l[-1]}\\n'\n",
    "f.close()"
   ]
  },
  {
   "cell_type": "code",
   "execution_count": 9,
   "id": "c9b49f17",
   "metadata": {},
   "outputs": [],
   "source": [
    "s = []\n",
    "g = []\n",
    "t = []\n",
    "dmin = 0 # distance min from source (all bellow removed)\n",
    "fmt = \"{:03d}000.txt\"\n",
    "files_pointage = os.listdir(path_pointage)\n",
    "for i, x_shot in enumerate(x_shots):\n",
    "    filename = fmt.format(x_shot)\n",
    "    file = f'{path_pointage}/{filename}'\n",
    "    if filename not in files_pointage:\n",
    "        print(f'File {file} not found skipping.')\n",
    "        continue\n",
    "    ts = np.loadtxt(file, usecols=0, dtype=float)\n",
    "    ks = np.loadtxt(file, usecols=1, dtype=int)\n",
    "    for j, k in enumerate(ks):\n",
    "        x_geoph = x_geophs[k-1]\n",
    "        if x_shot - dmin <= x_geoph <= x_shot + dmin:\n",
    "            continue\n",
    "        t.append(ts[j])\n",
    "        s.append(2*(i+1))\n",
    "        g.append(2*k-1)\n",
    "s = np.array(s)\n",
    "g = np.array(g)\n",
    "t = np.array(t)"
   ]
  },
  {
   "cell_type": "code",
   "execution_count": 10,
   "id": "0c35d40d",
   "metadata": {
    "scrolled": true
   },
   "outputs": [
    {
     "name": "stdout",
     "output_type": "stream",
     "text": [
      "Nombre de geophones 21\n",
      "Nombre de shots (sources) 20\n",
      "Nombre total de positions 41\n",
      "Nombre total de données 420\n",
      "Nombre total de données réelles 420\n"
     ]
    }
   ],
   "source": [
    "print('Nombre de geophones', ng)\n",
    "print('Nombre de shots (sources)', ns)\n",
    "print('Nombre total de positions', len(xy)) # car les shots sont aux positions des capteurs donc on ne les compte pas\n",
    "print('Nombre total de données', ns*ng)\n",
    "print('Nombre total de données réelles', len(t)) # en réalité on en retire 1 par shot soit 20"
   ]
  },
  {
   "cell_type": "code",
   "execution_count": 11,
   "id": "0a845e0a-4619-4c35-a322-a433870dbf9b",
   "metadata": {},
   "outputs": [],
   "source": [
    "np.savetxt(f'{path_pygimli}/positions.txt', xy)\n",
    "np.savetxt(f'{path_pygimli}/shots.txt', s, fmt='%d')\n",
    "np.savetxt(f'{path_pygimli}/geophones.txt', g, fmt='%d')\n",
    "np.savetxt(f'{path_pygimli}/times.txt', t)\n",
    "np.savetxt(f'{path_pygimli}/sgt.txt', np.array([s, g, t]).T) # , delimiter='\\t', fmt='%.5f'"
   ]
  },
  {
   "cell_type": "code",
   "execution_count": 12,
   "id": "babc0703-8e76-4204-bbeb-507f2d381cad",
   "metadata": {},
   "outputs": [],
   "source": [
    "with open(f'{path_pygimli}/data.sgt', 'w') as f:\n",
    "    f.write(f'{len(xy)} # shot/geophone points\\n')\n",
    "    f.write('#x\ty\\n')\n",
    "    #f.write(open('xy', 'r').read())\n",
    "    for pos in xy:\n",
    "        x, y = pos\n",
    "        f.write(f'{x} {y}\\n')\n",
    "    f.write(f'{len(t)} # measurements\\n')\n",
    "    f.write('#s\tg\tt\\n')\n",
    "    #f.write(open('sgt', 'r').read())\n",
    "    for i in range(len(t)):\n",
    "        f.write(f'{s[i]} {g[i]} {t[i]}\\n')"
   ]
  },
  {
   "cell_type": "markdown",
   "id": "0a787ed1-5acc-4fa3-8dfd-3b5d1b1cb997",
   "metadata": {},
   "source": [
    "## Rayinvr\n",
    "\n",
    "[Rayinvr](https://github.com/hzhu212/rayinvr)"
   ]
  },
  {
   "cell_type": "code",
   "execution_count": 13,
   "id": "45746f50",
   "metadata": {},
   "outputs": [],
   "source": [
    "path_rayinvr = 'data/rayinvrmodel'"
   ]
  },
  {
   "cell_type": "code",
   "execution_count": 14,
   "id": "58c2ba70",
   "metadata": {},
   "outputs": [
    {
     "data": {
      "text/plain": [
       "array([0.116962 , 0.116336 , 0.11618  , 0.116336 , 0.115084 , 0.112578 ,\n",
       "       0.111482 , 0.107724 , 0.105063 , 0.0978601, 0.0926931, 0.0886221,\n",
       "       0.0845511, 0.0795407, 0.0735908, 0.0670146, 0.0624739, 0.0569937,\n",
       "       0.0490084, 0.0311587, 0.0311587])"
      ]
     },
     "execution_count": 14,
     "metadata": {},
     "output_type": "execute_result"
    }
   ],
   "source": [
    "file = f\"data/pointage/{x_shot:03d}000.txt\"\n",
    "\n",
    "ts"
   ]
  },
  {
   "cell_type": "code",
   "execution_count": 15,
   "id": "67a9c8fb",
   "metadata": {},
   "outputs": [],
   "source": [
    "velocity_grange = [[(2, 8), (8, 48), (48, 80)],\n",
    " [(6, 12), (12, 48), (48, 80)],\n",
    " [(10, 16), (16, 52), (52, 80)],\n",
    " [(14, 20), (20, 52), (52, 80)],\n",
    " [(18, 24), (24, 60), (60, 80)],\n",
    " [(22, 28), (28, 60), (60, 80)],\n",
    " [(26, 32), (32, 64), (64, 80)],\n",
    " [(30, 36), (36, 64), (64, 80), (24, 30), (12, 24), (0, 12)],\n",
    " [(28, 34), (12, 28), (0 , 12), (34, 44), (44, 64), (64, 80)],\n",
    " [(38, 44), (44, 64), (64, 80), (32, 38), (12, 32), (0, 12)],\n",
    " [(42, 48), (16, 32), (0, 16), (32, 42), (48, 64), (64, 80)],\n",
    " [(46, 52), (52, 64), (64, 80), (40, 46), (16, 40), (0, 16)],\n",
    " [(44, 50), (20, 44), (0, 20)],\n",
    " [(48, 54), (16, 48), (0, 16)],\n",
    " [(52, 58), (20, 52), (0, 20)],\n",
    " [(56, 62), (24, 56), (0, 24)],\n",
    " [(66, 72), (20, 56), (0, 20)],\n",
    " [(64, 70), (24, 64), (0, 24)],\n",
    " [(68, 74), (32, 68), (0, 32)],\n",
    " [(72, 78), (32, 72), (0, 32)]]"
   ]
  },
  {
   "cell_type": "code",
   "execution_count": 16,
   "id": "024281be-dd51-45ec-90da-39ef17944c69",
   "metadata": {},
   "outputs": [],
   "source": [
    "# tx : travel times\n",
    "txin = []\n",
    "dmin = 2 # distance min from source (all bellow removed)\n",
    "for i, x_shot in enumerate(x_shots):\n",
    "    shot_data = []\n",
    "    file = f\"data/pointage/{x_shot:03d}000.txt\"\n",
    "    ts = np.loadtxt(file, usecols=0, dtype=float)*1000\n",
    "    ks = np.loadtxt(file, usecols=1, dtype=int)\n",
    "    for j, k in enumerate(ks):\n",
    "        x_geoph = x_geophs[k-1]\n",
    "        if x_shot - dmin <= x_geoph <= x_shot + dmin: # too close to shot\n",
    "            layer = 1\n",
    "        layer = 2\n",
    "        geophones = velocity_grange[i]\n",
    "        if geophones[2][0] <= x_geoph <= geophones[2][1]: # layer\n",
    "            layer = 3\n",
    "        elif len(geophones) > 3:\n",
    "            if geophones[5][0] <= x_geoph <= geophones[5][1]: # layer\n",
    "                layer = 3\n",
    "        shot_data.append([x_geoph, ts[j], 1.5, layer])\n",
    "    shot_data.insert(i, [x_shot, 1, 0, 0])\n",
    "    if shot_data[0][0] < x_shot:\n",
    "        shot_data.insert(0, [x_shot, -1, 0, 0])\n",
    "    txin += shot_data\n",
    "txin.append([0, 0, -1, -1])\n",
    "\n",
    "np.savetxt(f'{path_rayinvr}/tx.ori', txin, fmt=\"% 10.3f% 10.3f% 10.3f% 10d\")"
   ]
  },
  {
   "cell_type": "code",
   "execution_count": 17,
   "id": "529724ee",
   "metadata": {},
   "outputs": [],
   "source": [
    "v0 = np.array([0.06127178, 0.05520754, 0.05267305, 0.05371592, 0.05278326,\n",
    "       0.04951127, 0.05519723, 0.0531394 , 0.05409718, 0.05741549,\n",
    "       0.05450044, 0.0488509 , 0.05192755, 0.04830636, 0.0469633 ,\n",
    "       0.04716554, 0.04924495, 0.05130187, 0.05509828, 0.06418753])\n",
    "\n",
    "v1 = np.array([0.27177421, 0.20437359, 0.22809569, 0.30779175, 0.23654362,\n",
    "       0.18784281, 0.2146775 , 0.19680226, 0.31464126, 0.23861966,\n",
    "       0.2700452 , 0.33136323, 0.2433016 , 0.31154346, 0.27768136,\n",
    "       0.2146775 , 0.27768136, 0.21649708, 0.24802664, 0.2240934 ])\n",
    "\n",
    "v2 = np.array([0.69817388, 0.68262316, 0.63626104, 0.58548266, 0.66204101,\n",
    "       0.63866358, 0.62614483, 0.60184867, 0.62833713, 0.57106137,\n",
    "       0.60761113, 0.5390766 , 0.60825368, 0.60156889, 0.60228023,\n",
    "       0.63760888, 0.6845055 , 0.70270758, 0.67228301, 0.74757272])\n",
    "\n",
    "v3 = np.array([ 5.80593657,  4.06559154,  7.0119788 ,  3.40653324, 13.97066161,\n",
    "        4.78158407, 15.96806387, 12.38652275,  2.30732231,  1.83027684,\n",
    "        1.72871362,  1.59278111,  1.37349296,  2.77700639,  2.88415978,\n",
    "        2.60114264,  6.77277345,  5.2987652 ,  2.99367586,  2.77181069])\n",
    "\n",
    "z1 = np.array([0.79501708, 0.75805104, 0.79043916, 0.83834528, 0.79695084,\n",
    "       0.76341775, 0.76872742, 0.75814614, 0.84058453, 0.78237046,\n",
    "       0.81494978, 0.86199467, 0.80512241, 0.85528902, 0.84301765,\n",
    "       0.79983866, 0.83590654, 0.78540614, 0.79778748, 0.74477355])\n",
    "\n",
    "z2 = np.array([1.9890946 , 2.20286321, 2.06154498, 1.6726676 , 2.06438268,\n",
    "       2.21564462, 2.09863454, 2.13646189, 2.3070846 , 1.92230382,\n",
    "       2.48071603, 1.46549423, 1.9639605 , 1.69074138, 1.82206094,\n",
    "       2.11331111, 3.25119974, 2.18186218, 2.03689412, 2.20197553])\n",
    "\n",
    "z3 = np.array([20.38211455, 17.72568758, 19.17357459, 15.97213255, 20.02735259,\n",
    "       16.61105957, 18.26901659, 12.38296914,  9.83136786,  9.41383782,\n",
    "        8.31260798,  8.43648536,  9.32107113, 15.2461471 , 15.37123847,\n",
    "       14.79394406, 20.78186505, 20.12758401, 16.71089927, 17.44316654])"
   ]
  },
  {
   "cell_type": "code",
   "execution_count": 18,
   "id": "c4060896",
   "metadata": {},
   "outputs": [],
   "source": [
    "def create_layer_row(k, x_layer, y_layer=0, vary=False, vori='', ncolmax=10):\n",
    "    \"\"\"\n",
    "    create one line of the v.ori velocity model for rayinvr\n",
    "    k : int, number of the layer starting at 1\n",
    "    x_layer : array_like, horizontal position for the mesh\n",
    "    y_layer : array_like or float_like, value of the parameter at the corresponding point (depth or velocity)\n",
    "    vary : bool, should the parameter evolves thru iterations or is it fixed\n",
    "    vori : str, string to append data on\n",
    "    ncolmax : number of columns to write on, default 10\n",
    "    \"\"\"\n",
    "    y_layer = np.zeros_like(x_layer) + y_layer\n",
    "    v_layer = np.zeros_like(x_layer, dtype=int) + vary\n",
    "    n_cols = len(x_layer)//10+1\n",
    "    for i in range(n_cols):\n",
    "        vori += f'{k: 2d} '+''.join(f'{e: 7.2f}' for e in x_layer[i*10:(i+1)*10])+'\\n'\n",
    "        vori += f'{int(i!=n_cols-1): 2d} '+''.join(f'{e: 7.2f}' for e in y_layer[i*10:(i+1)*10])+'\\n'\n",
    "        vori += 3*' '+''.join(f'{int(e): 7d}' for e in v_layer[i*10:(i+1)*10])+'\\n'\n",
    "    return vori"
   ]
  },
  {
   "cell_type": "code",
   "execution_count": 19,
   "id": "c4ab9f23",
   "metadata": {},
   "outputs": [],
   "source": [
    "def create_layer(k, x_layer, depth_layer, velocity_layer_top, velocity_layer_bottom, varies=(False, False, False), vori='', ncolmax=10):\n",
    "    \"\"\"\n",
    "    create one layer of the v.ori velocity model for rayinvr\n",
    "    k : int, number of the layer starting at 1\n",
    "    x_layer : array_like, horizontal position for the mesh\n",
    "    depth_layer : array_like or float_like, depth of the layer at the corresponding point\n",
    "    velocity_layer_top : array_like or float_like, velocity of the top of the layer at the corresponding point\n",
    "    velocity_layer_bottom : array_like or float_like, velocity of the top of the layer at the corresponding point\n",
    "    varies : (bool, bool, bool), should the depth, top velocity or bottom velocity evolves thru iterations or is it fixed\n",
    "    vori : str, string to append data on\n",
    "    ncolmax : number of columns to write on, default 10\n",
    "    \"\"\"\n",
    "    vori = create_layer_row(x_layer=x_layer, y_layer=depth_layer, k=k, vary=varies[0], vori=vori) # Layer depth\n",
    "    vori = create_layer_row(x_layer=x_layer, y_layer=velocity_layer_top, k=k, vary=varies[1], vori=vori) # Layer velocity top\n",
    "    vori = create_layer_row(x_layer=x_layer, y_layer=velocity_layer_bottom, k=k, vary=varies[2], vori=vori) # Layer velocity bottom\n",
    "    return vori"
   ]
  },
  {
   "cell_type": "code",
   "execution_count": 20,
   "id": "ee47cb6a",
   "metadata": {},
   "outputs": [],
   "source": [
    "# v : velocity model\n",
    "k = 1 # First layer\n",
    "x_borders = 5\n",
    "x_layer = np.concatenate([[x_geophs[0] - x_borders], x_geophs, [x_geophs[-1] + x_borders]])\n",
    "depth_layer = np.max(y_geophs) - np.interp(x_layer, x_geophs, y_geophs)\n",
    "velocity_layer_top = np.interp(x_layer, x_shots, v0)\n",
    "velocity_layer_bottom = np.interp(x_layer, x_shots, v1) - .05\n",
    "varies = (False, False, False)\n",
    "vori = create_layer(k=k, x_layer=x_layer, depth_layer=depth_layer, velocity_layer_top=velocity_layer_top, velocity_layer_bottom=velocity_layer_bottom, varies=varies)\n",
    "\n",
    "k = 2 # Second layer\n",
    "depth_layer = depth_layer + np.interp(x_layer, x_shots, z2)\n",
    "velocity_layer_top = np.interp(x_layer, x_shots, v2)\n",
    "velocity_layer_bottom = velocity_layer_top + .1\n",
    "varies = (False, False, False)\n",
    "vori = create_layer(k=k, x_layer=x_layer, depth_layer=depth_layer, velocity_layer_top=velocity_layer_top, velocity_layer_bottom=velocity_layer_bottom, varies=varies, vori=vori)\n",
    "\n",
    "k = 3 # Third layer\n",
    "depth_layer = depth_layer + 20\n",
    "velocity_layer_top = 3.2\n",
    "velocity_layer_bottom = 4\n",
    "varies = (False, False, False)\n",
    "vori = create_layer(k=k, x_layer=x_layer, depth_layer=depth_layer, velocity_layer_top=velocity_layer_top, velocity_layer_bottom=velocity_layer_bottom, varies=varies, vori=vori)\n",
    "\n",
    "vori += ' 4   -5.00  85.00\\n'\n",
    "vori += ' 0   40.00  40.00\\n'\n",
    "with open(f'{path_rayinvr}/v.ori', 'w') as f:\n",
    "    f.write(vori)"
   ]
  },
  {
   "cell_type": "code",
   "execution_count": 21,
   "id": "2881fce8-0616-403b-b564-6f2690d72779",
   "metadata": {},
   "outputs": [
    {
     "name": "stdout",
     "output_type": "stream",
     "text": [
      "ishot=2,2,2,2,2,2,2,2,2,2,2,2,2,2,2,2,2,2,2,2,\n",
      "xshot=2.0,6.0,10.0,14.0,18.0,22.0,26.0,30.0,34.0,38.0,42.0,46.0,50.0,54.0,58.0,62.0,66.0,70.0,74.0,78.0,\n"
     ]
    }
   ],
   "source": [
    "# r : rays parameters\n",
    "print(f\"ishot={'2,'*ns}\")\n",
    "print(f\"xshot={','.join(map(str, map(float, x_shots)))},\")"
   ]
  },
  {
   "cell_type": "code",
   "execution_count": 22,
   "id": "cc3881cb-dfa2-4eda-b5cf-0860d71810eb",
   "metadata": {},
   "outputs": [],
   "source": [
    "# create input files from ori\n",
    "filenames = ('tx', 'v', 'd', 'r')\n",
    "for filename in filenames:\n",
    "    shutil.copy2(f'{path_rayinvr}/{filename}.ori', f'{path_rayinvr}/{filename}.in')"
   ]
  },
  {
   "cell_type": "code",
   "execution_count": null,
   "id": "dc63567e",
   "metadata": {},
   "outputs": [],
   "source": []
  }
 ],
 "metadata": {
  "kernelspec": {
   "display_name": "gimli",
   "language": "python",
   "name": "gimli"
  },
  "language_info": {
   "codemirror_mode": {
    "name": "ipython",
    "version": 3
   },
   "file_extension": ".py",
   "mimetype": "text/x-python",
   "name": "python",
   "nbconvert_exporter": "python",
   "pygments_lexer": "ipython3",
   "version": "3.11.9"
  }
 },
 "nbformat": 4,
 "nbformat_minor": 5
}
