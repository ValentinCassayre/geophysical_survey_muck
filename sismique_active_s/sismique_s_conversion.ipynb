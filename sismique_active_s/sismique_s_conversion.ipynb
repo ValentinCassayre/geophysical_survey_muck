{
 "cells": [
  {
   "cell_type": "markdown",
   "id": "a6f5db4a",
   "metadata": {},
   "source": [
    "# Sismique active S : Conversion de formats"
   ]
  },
  {
   "cell_type": "code",
   "execution_count": 1,
   "id": "1fad28dc-6f38-4e09-a9a0-161edf8273c0",
   "metadata": {},
   "outputs": [],
   "source": [
    "import numpy as np\n",
    "import matplotlib.pyplot as plt\n",
    "\n",
    "import pandas as pd\n",
    "\n",
    "from scipy import stats"
   ]
  },
  {
   "cell_type": "markdown",
   "id": "1bb55b1b",
   "metadata": {},
   "source": [
    "## Lecture de la géométrie du profil"
   ]
  },
  {
   "cell_type": "code",
   "execution_count": 2,
   "id": "4cbe7e64",
   "metadata": {},
   "outputs": [],
   "source": [
    "from geometry import *"
   ]
  },
  {
   "cell_type": "code",
   "execution_count": 3,
   "id": "4ea76ba9",
   "metadata": {},
   "outputs": [
    {
     "name": "stdout",
     "output_type": "stream",
     "text": [
      "import numpy as np\r\n",
      "import pandas as pd\r\n",
      "import os\r\n",
      "\r\n",
      "gnss = pd.read_csv('MUCKENBACH_OS_2024.csv')\r\n",
      "gnss['geophone'] = gnss['Name'].map(lambda e: int(e.split('.')[-1]))\r\n",
      "gnss = gnss.set_index('geophone')\r\n",
      "gnss = gnss.sort_index()\r\n",
      "\r\n",
      "files_pointage = [f for f in os.listdir('data/pointage') if f.endswith('txt')]\r\n",
      "\r\n",
      "dx = 4\r\n",
      "offset = 2\r\n",
      "ng = len(gnss['A'].unique())\r\n",
      "ns = len(files_pointage)\r\n",
      "x_geophs = np.arange(ng)*dx # géophones espacés de 4m\r\n",
      "x_shots = np.arange(ns)*dx + offset # sources espacées de 4m entre 2 géophones\r\n",
      "x = np.concatenate((x_geophs, x_shots))\r\n",
      "x.sort()\r\n",
      "y_geophs = gnss['A'].values\r\n",
      "y = np.interp(x, x_geophs, y_geophs) # interpolation de l'altitude des capteurs (mesurées) pour estimer celle des sources\r\n",
      "y_shots = y[0:-1:2]"
     ]
    }
   ],
   "source": [
    "!cat geometry.py"
   ]
  },
  {
   "cell_type": "code",
   "execution_count": 4,
   "id": "f50b9f8b-e567-4d88-b774-d7345e0e242f",
   "metadata": {},
   "outputs": [
    {
     "data": {
      "text/html": [
       "<div>\n",
       "<style scoped>\n",
       "    .dataframe tbody tr th:only-of-type {\n",
       "        vertical-align: middle;\n",
       "    }\n",
       "\n",
       "    .dataframe tbody tr th {\n",
       "        vertical-align: top;\n",
       "    }\n",
       "\n",
       "    .dataframe thead th {\n",
       "        text-align: right;\n",
       "    }\n",
       "</style>\n",
       "<table border=\"1\" class=\"dataframe\">\n",
       "  <thead>\n",
       "    <tr style=\"text-align: right;\">\n",
       "      <th></th>\n",
       "      <th>Name</th>\n",
       "      <th>Latitude</th>\n",
       "      <th>Longitude</th>\n",
       "      <th>EllipsoidHeight</th>\n",
       "      <th>TimeStamp</th>\n",
       "      <th>X</th>\n",
       "      <th>Y</th>\n",
       "      <th>A</th>\n",
       "    </tr>\n",
       "    <tr>\n",
       "      <th>geophone</th>\n",
       "      <th></th>\n",
       "      <th></th>\n",
       "      <th></th>\n",
       "      <th></th>\n",
       "      <th></th>\n",
       "      <th></th>\n",
       "      <th></th>\n",
       "      <th></th>\n",
       "    </tr>\n",
       "  </thead>\n",
       "  <tbody>\n",
       "    <tr>\n",
       "      <th>1</th>\n",
       "      <td>ONDES.GR1.1</td>\n",
       "      <td>48.491419</td>\n",
       "      <td>7.288737</td>\n",
       "      <td>713.242974</td>\n",
       "      <td>2024-09-04T15:10:04.420</td>\n",
       "      <td>6.829844e+06</td>\n",
       "      <td>1.016730e+06</td>\n",
       "      <td>664.504873</td>\n",
       "    </tr>\n",
       "    <tr>\n",
       "      <th>2</th>\n",
       "      <td>ONDES.GR1.2</td>\n",
       "      <td>48.491391</td>\n",
       "      <td>7.288704</td>\n",
       "      <td>713.303219</td>\n",
       "      <td>2024-09-04T15:10:28.280</td>\n",
       "      <td>6.829841e+06</td>\n",
       "      <td>1.016728e+06</td>\n",
       "      <td>664.564993</td>\n",
       "    </tr>\n",
       "    <tr>\n",
       "      <th>3</th>\n",
       "      <td>ONDES.GR1.3</td>\n",
       "      <td>48.491363</td>\n",
       "      <td>7.288673</td>\n",
       "      <td>713.271782</td>\n",
       "      <td>2024-09-04T15:10:46.900</td>\n",
       "      <td>6.829837e+06</td>\n",
       "      <td>1.016726e+06</td>\n",
       "      <td>664.533426</td>\n",
       "    </tr>\n",
       "    <tr>\n",
       "      <th>4</th>\n",
       "      <td>ONDES.GR1.4</td>\n",
       "      <td>48.491334</td>\n",
       "      <td>7.288640</td>\n",
       "      <td>713.350197</td>\n",
       "      <td>2024-09-04T15:11:05.850</td>\n",
       "      <td>6.829834e+06</td>\n",
       "      <td>1.016723e+06</td>\n",
       "      <td>664.611712</td>\n",
       "    </tr>\n",
       "    <tr>\n",
       "      <th>5</th>\n",
       "      <td>ONDES.GR1.5</td>\n",
       "      <td>48.491305</td>\n",
       "      <td>7.288607</td>\n",
       "      <td>713.588551</td>\n",
       "      <td>2024-09-04T15:11:25.210</td>\n",
       "      <td>6.829831e+06</td>\n",
       "      <td>1.016721e+06</td>\n",
       "      <td>664.849936</td>\n",
       "    </tr>\n",
       "  </tbody>\n",
       "</table>\n",
       "</div>"
      ],
      "text/plain": [
       "                 Name   Latitude  Longitude  EllipsoidHeight  \\\n",
       "geophone                                                       \n",
       "1         ONDES.GR1.1  48.491419   7.288737       713.242974   \n",
       "2         ONDES.GR1.2  48.491391   7.288704       713.303219   \n",
       "3         ONDES.GR1.3  48.491363   7.288673       713.271782   \n",
       "4         ONDES.GR1.4  48.491334   7.288640       713.350197   \n",
       "5         ONDES.GR1.5  48.491305   7.288607       713.588551   \n",
       "\n",
       "                        TimeStamp            X             Y            A  \n",
       "geophone                                                                   \n",
       "1         2024-09-04T15:10:04.420  6.829844e+06  1.016730e+06  664.504873  \n",
       "2         2024-09-04T15:10:28.280  6.829841e+06  1.016728e+06  664.564993  \n",
       "3         2024-09-04T15:10:46.900  6.829837e+06  1.016726e+06  664.533426  \n",
       "4         2024-09-04T15:11:05.850  6.829834e+06  1.016723e+06  664.611712  \n",
       "5         2024-09-04T15:11:25.210  6.829831e+06  1.016721e+06  664.849936  "
      ]
     },
     "execution_count": 4,
     "metadata": {},
     "output_type": "execute_result"
    }
   ],
   "source": [
    "gnss.head()"
   ]
  },
  {
   "cell_type": "code",
   "execution_count": 5,
   "id": "75af69ce",
   "metadata": {},
   "outputs": [
    {
     "name": "stdout",
     "output_type": "stream",
     "text": [
      "Nombre de geophones 21\n",
      "Nombre de shots (sources) 20\n",
      "Nombre total de données 420\n"
     ]
    }
   ],
   "source": [
    "print('Nombre de geophones', ng)\n",
    "print('Nombre de shots (sources)', ns)\n",
    "print('Nombre total de données', ns*ng)"
   ]
  },
  {
   "cell_type": "markdown",
   "id": "15ef8dcd",
   "metadata": {},
   "source": [
    "## Pygimli\n",
    "data.sgt"
   ]
  },
  {
   "cell_type": "code",
   "execution_count": 6,
   "id": "e11cacbf",
   "metadata": {},
   "outputs": [],
   "source": [
    "path = 'data/sgt'"
   ]
  },
  {
   "cell_type": "code",
   "execution_count": 7,
   "id": "747957f0",
   "metadata": {},
   "outputs": [],
   "source": [
    "xy = np.array((x, y)).T # positions de tous les capteurs et receveurs"
   ]
  },
  {
   "cell_type": "code",
   "execution_count": 8,
   "id": "53f4c65f",
   "metadata": {},
   "outputs": [],
   "source": [
    "s = np.zeros(ns*ng, dtype=int)\n",
    "g = np.zeros(ns*ng, dtype=int)\n",
    "t = np.zeros(ns*ng, dtype=float)\n",
    "i = 0\n",
    "with open('data/pointage.txt', 'r') as f: # reading this terrible file format TODO : read from individual files\n",
    "    for line in f.readlines():\n",
    "        l = line.split()\n",
    "        if len(l)>2:\n",
    "            ti = l[0]\n",
    "            d = l[1]\n",
    "            f = open(f'data/pointage/{ti}.txt', 'w') # clear content of old file and opens it\n",
    "        else:\n",
    "            if l:\n",
    "                d = l[0]\n",
    "            else:\n",
    "                continue\n",
    "        shot = int(float(ti)/1000-2)//4+1\n",
    "        geophone = int(float(l[-1]))\n",
    "        \n",
    "        if shot == geophone:\n",
    "            pass\n",
    "            #print(\"Retire le pointé\", geophone, \"du shot\", shot, \"(source au même endroit que le pointé)\")\n",
    "            #continue\n",
    "        # le shot et le geophone sont au même endroit donc on peut utiliser une position pour les 2\n",
    "        \n",
    "        s[i] = 2*shot\n",
    "        g[i] = 2*geophone-1\n",
    "        t[i] = float(d)\n",
    "        i += 1\n",
    "        f.write(f'{d}\\n') # f'{d} {l[-1]}\\n'\n",
    "f.close()"
   ]
  },
  {
   "cell_type": "code",
   "execution_count": 9,
   "id": "0c35d40d",
   "metadata": {
    "scrolled": true
   },
   "outputs": [
    {
     "name": "stdout",
     "output_type": "stream",
     "text": [
      "Nombre de geophones 21\n",
      "Nombre de shots (sources) 20\n",
      "Nombre total de positions 41\n",
      "Nombre total de données 420\n",
      "Nombre total de données réelles 420\n"
     ]
    }
   ],
   "source": [
    "print('Nombre de geophones', ng)\n",
    "print('Nombre de shots (sources)', ns)\n",
    "print('Nombre total de positions', len(xy)) # car les shots sont aux positions des capteurs donc on ne les compte pas\n",
    "print('Nombre total de données', ns*ng)\n",
    "print('Nombre total de données réelles', len(t)) # en réalité on en retire 1 par shot soit 20"
   ]
  },
  {
   "cell_type": "code",
   "execution_count": 10,
   "id": "0a845e0a-4619-4c35-a322-a433870dbf9b",
   "metadata": {},
   "outputs": [],
   "source": [
    "np.savetxt(f'{path}/positions.txt', xy)\n",
    "np.savetxt(f'{path}/shots.txt', s, fmt='%d')\n",
    "np.savetxt(f'{path}/geophones.txt', g, fmt='%d')\n",
    "np.savetxt(f'{path}/times.txt', t)\n",
    "np.savetxt(f'{path}/sgt.txt', np.array([s, g, t]).T) # , delimiter='\\t', fmt='%.5f'"
   ]
  },
  {
   "cell_type": "code",
   "execution_count": 11,
   "id": "babc0703-8e76-4204-bbeb-507f2d381cad",
   "metadata": {},
   "outputs": [],
   "source": [
    "with open(f'{path}/data.sgt', 'w') as f:\n",
    "    f.write(f'{len(xy)} # shot/geophone points\\n')\n",
    "    f.write('#x\ty\\n')\n",
    "    #f.write(open('xy', 'r').read())\n",
    "    for pos in xy:\n",
    "        x, y = pos\n",
    "        f.write(f'{x} {y}\\n')\n",
    "    f.write(f'{len(t)} # measurements\\n')\n",
    "    f.write('#s\tg\tt\\n')\n",
    "    #f.write(open('sgt', 'r').read())\n",
    "    for i in range(len(t)):\n",
    "        f.write(f'{s[i]} {g[i]} {t[i]}\\n')"
   ]
  },
  {
   "cell_type": "markdown",
   "id": "0a787ed1-5acc-4fa3-8dfd-3b5d1b1cb997",
   "metadata": {},
   "source": [
    "## Rayinvr\n",
    "\n",
    "[Rayinvr](https://github.com/hzhu212/rayinvr)"
   ]
  },
  {
   "cell_type": "code",
   "execution_count": 12,
   "id": "45746f50",
   "metadata": {},
   "outputs": [],
   "source": [
    "path = 'data/rayinvrmodel'"
   ]
  },
  {
   "cell_type": "code",
   "execution_count": 13,
   "id": "024281be-dd51-45ec-90da-39ef17944c69",
   "metadata": {},
   "outputs": [],
   "source": [
    "# tx.in\n",
    "txin = []\n",
    "dmin = 2 # distance min from source (all bellow removed)\n",
    "for i, x_shot in enumerate(x_shots):\n",
    "    shot_data = []\n",
    "    file = f\"data/pointage/{x_shot:03d}000.txt\"\n",
    "    ts = np.loadtxt(file)*1000\n",
    "    for j, x_geoph in enumerate(x_geophs):\n",
    "        if x_shot - dmin <= x_geoph <= x_shot + dmin:\n",
    "            #continue\n",
    "            pass\n",
    "        nc = 2\n",
    "        shot_data.append([x_geoph, ts[j], 1.5, nc])\n",
    "    shot_data.insert(i, [x_shot, 1, 0, 0])\n",
    "    if shot_data[0][0] < x_shot:\n",
    "        shot_data.insert(0, [x_shot, -1, 0, 0])\n",
    "    txin += shot_data\n",
    "txin.append([0, 0, -1, -1])\n",
    "\n",
    "np.savetxt(f'{path}/tx.in', txin, fmt=\"% 10.3f% 10.3f% 10.3f% 10d\")"
   ]
  },
  {
   "cell_type": "code",
   "execution_count": 14,
   "id": "6f952a0d-b8c2-47b3-99d4-fd7b9a72fc1c",
   "metadata": {},
   "outputs": [],
   "source": [
    "def create_velocity_model(k=0, x_geophs=x_geophs, parameter=20, vary=True, y=None, x_borders=5, topo=0, data='', ncolmax=10):\n",
    "    \"\"\"\n",
    "    create the v.ori velocity model for rayinvr\n",
    "    k : number of the layer, 0 for 1\n",
    "    x_geophs : pos of geophones (1D x distance)\n",
    "    parameter : parameter of the layer, depth or speed, either value either array of length x_geoph+2\n",
    "    vary : bool, should the parameter evolves thru iterations\n",
    "    y : topography of the layer of length x_geoph\n",
    "    x_borders : what is added to each sides\n",
    "    topo : topography of size x_geoph+2\n",
    "    data : string to write on\n",
    "    ncolmax : number of columns to write on\n",
    "    \"\"\"\n",
    "    if y is not None:\n",
    "        topo = np.concatenate([[y[0]], y, [y[-1]]])\n",
    "    x_vs = np.concatenate([[x_geophs[0]-x_borders], x_geophs, [x_geophs[-1]+x_borders]])\n",
    "    z_vs = np.zeros_like(x_vs) + parameter + topo\n",
    "    c_vs = np.zeros_like(x_vs, dtype=int) + vary\n",
    "    v_ori = np.array([x_vs, z_vs, c_vs])\n",
    "    n_cols = len(x_vs)//10+1\n",
    "    for i in range(n_cols):\n",
    "        for j in range(3):\n",
    "            if j<2:\n",
    "                data += f'{int(i!=n_cols-1 or j==0)+int(j==0)*k: 2d} '+''.join(f'{e: 7.2f}' for e in v_ori[j, i*10:(i+1)*10])\n",
    "            else:\n",
    "                data += 3*' '+''.join(f'{int(e): 7d}' for e in v_ori[j, i*10:(i+1)*10])\n",
    "            data += '\\n'\n",
    "    return data"
   ]
  },
  {
   "cell_type": "code",
   "execution_count": 15,
   "id": "ecef3838-ad38-4c8e-b033-cd3bfb5be586",
   "metadata": {},
   "outputs": [],
   "source": [
    "# v.ori\n",
    "# Topo to relative depth\n",
    "y = y_geophs\n",
    "y = np.max(y) - np.min(y) - (y - np.min(y))\n",
    "# First layer\n",
    "k = 0\n",
    "vori = create_velocity_model(k=k, x_geophs=x_geophs, parameter=0, vary=False, y=y) # Layer depth\n",
    "vori = create_velocity_model(k=k, x_geophs=x_geophs, parameter=0.24, vary=False, data=vori) # Layer upper speed\n",
    "vori = create_velocity_model(k=k, x_geophs=x_geophs, parameter=0.60, vary=True, data=vori) # Layer upper speed\n",
    "# Second layer\n",
    "k = 1\n",
    "vori = create_velocity_model(k=k, x_geophs=x_geophs, parameter=20, vary=True, data=vori, y=y) # Layer depth\n",
    "vori = create_velocity_model(k=k, x_geophs=x_geophs, parameter=1.30, vary=False, data=vori) # Layer upper speed\n",
    "vori = create_velocity_model(k=k, x_geophs=x_geophs, parameter=2.75, vary=False, data=vori) # Layer upper speed\n",
    "# Last layer\n",
    "vori += ' 3   -5.00  85.00\\n'\n",
    "vori += ' 0   40.00  40.00\\n'\n",
    "# Save\n",
    "with open(f'{path}/v.ori', 'w') as f:\n",
    "    f.write(vori)"
   ]
  },
  {
   "cell_type": "code",
   "execution_count": 16,
   "id": "2881fce8-0616-403b-b564-6f2690d72779",
   "metadata": {},
   "outputs": [
    {
     "name": "stdout",
     "output_type": "stream",
     "text": [
      "ishot=2,2,2,2,2,2,2,2,2,2,2,2,2,2,2,2,2,2,2,2,\n",
      "xshot=2.0,6.0,10.0,14.0,18.0,22.0,26.0,30.0,34.0,38.0,42.0,46.0,50.0,54.0,58.0,62.0,66.0,70.0,74.0,78.0,\n"
     ]
    }
   ],
   "source": [
    "# parameters\n",
    "print(f\"ishot={'2,'*ns}\")\n",
    "print(f\"xshot={','.join(map(str, map(float, x_shots)))},\")"
   ]
  },
  {
   "cell_type": "code",
   "execution_count": 17,
   "id": "cc3881cb-dfa2-4eda-b5cf-0860d71810eb",
   "metadata": {},
   "outputs": [],
   "source": [
    "# v.in\n",
    "!cp -f data/rayinvrmodel/v.ori data/rayinvrmodel/v.in"
   ]
  }
 ],
 "metadata": {
  "kernelspec": {
   "display_name": "gimli",
   "language": "python",
   "name": "gimli"
  },
  "language_info": {
   "codemirror_mode": {
    "name": "ipython",
    "version": 3
   },
   "file_extension": ".py",
   "mimetype": "text/x-python",
   "name": "python",
   "nbconvert_exporter": "python",
   "pygments_lexer": "ipython3",
   "version": "3.11.9"
  }
 },
 "nbformat": 4,
 "nbformat_minor": 5
}
