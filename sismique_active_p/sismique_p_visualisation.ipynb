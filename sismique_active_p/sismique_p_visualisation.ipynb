{
 "cells": [
  {
   "cell_type": "code",
   "execution_count": 1,
   "id": "72ea8d7a-0e81-4c32-963c-9f97fa47b98e",
   "metadata": {},
   "outputs": [
    {
     "name": "stderr",
     "output_type": "stream",
     "text": [
      "/home/valentin/.local/lib/python3.11/site-packages/matplotlib/projections/__init__.py:63: UserWarning: Unable to import Axes3D. This may be due to multiple versions of Matplotlib being installed (e.g. as a system package and as a pip package). As a result, the 3D projection is not available.\n",
      "  warnings.warn(\"Unable to import Axes3D. This may be due to multiple versions of \"\n"
     ]
    }
   ],
   "source": [
    "import numpy as np\n",
    "import matplotlib.pyplot as plt\n",
    "\n",
    "import os\n",
    "\n",
    "import pandas as pd\n",
    "\n",
    "from scipy import stats\n",
    "\n",
    "import ipywidgets as widgets\n",
    "from ipywidgets import interactive"
   ]
  },
  {
   "cell_type": "code",
   "execution_count": 2,
   "id": "af9990f5",
   "metadata": {},
   "outputs": [
    {
     "data": {
      "text/html": [
       "<div>\n",
       "<style scoped>\n",
       "    .dataframe tbody tr th:only-of-type {\n",
       "        vertical-align: middle;\n",
       "    }\n",
       "\n",
       "    .dataframe tbody tr th {\n",
       "        vertical-align: top;\n",
       "    }\n",
       "\n",
       "    .dataframe thead th {\n",
       "        text-align: right;\n",
       "    }\n",
       "</style>\n",
       "<table border=\"1\" class=\"dataframe\">\n",
       "  <thead>\n",
       "    <tr style=\"text-align: right;\">\n",
       "      <th></th>\n",
       "      <th>Name</th>\n",
       "      <th>Latitude</th>\n",
       "      <th>Longitude</th>\n",
       "      <th>EllipsoidHeight</th>\n",
       "      <th>TimeStamp</th>\n",
       "      <th>X</th>\n",
       "      <th>Y</th>\n",
       "      <th>A</th>\n",
       "    </tr>\n",
       "    <tr>\n",
       "      <th>geophone</th>\n",
       "      <th></th>\n",
       "      <th></th>\n",
       "      <th></th>\n",
       "      <th></th>\n",
       "      <th></th>\n",
       "      <th></th>\n",
       "      <th></th>\n",
       "      <th></th>\n",
       "    </tr>\n",
       "  </thead>\n",
       "  <tbody>\n",
       "    <tr>\n",
       "      <th>1</th>\n",
       "      <td>ONDEP.GR1.1</td>\n",
       "      <td>48.491419</td>\n",
       "      <td>7.288735</td>\n",
       "      <td>713.297247</td>\n",
       "      <td>2024-09-05T11:13:58.140</td>\n",
       "      <td>6.829844e+06</td>\n",
       "      <td>1.016730e+06</td>\n",
       "      <td>664.559143</td>\n",
       "    </tr>\n",
       "    <tr>\n",
       "      <th>2</th>\n",
       "      <td>ONDEP.GR1.2</td>\n",
       "      <td>48.491409</td>\n",
       "      <td>7.288722</td>\n",
       "      <td>713.355544</td>\n",
       "      <td>2024-09-05T11:14:17.490</td>\n",
       "      <td>6.829843e+06</td>\n",
       "      <td>1.016729e+06</td>\n",
       "      <td>664.617394</td>\n",
       "    </tr>\n",
       "    <tr>\n",
       "      <th>3</th>\n",
       "      <td>ONDEP.GR1.3</td>\n",
       "      <td>48.491398</td>\n",
       "      <td>7.288709</td>\n",
       "      <td>713.314836</td>\n",
       "      <td>2024-09-05T11:14:34.570</td>\n",
       "      <td>6.829841e+06</td>\n",
       "      <td>1.016728e+06</td>\n",
       "      <td>664.576637</td>\n",
       "    </tr>\n",
       "    <tr>\n",
       "      <th>4</th>\n",
       "      <td>ONDEP.GR1.4</td>\n",
       "      <td>48.491388</td>\n",
       "      <td>7.288697</td>\n",
       "      <td>713.351575</td>\n",
       "      <td>2024-09-05T11:14:51.520</td>\n",
       "      <td>6.829840e+06</td>\n",
       "      <td>1.016727e+06</td>\n",
       "      <td>664.613325</td>\n",
       "    </tr>\n",
       "    <tr>\n",
       "      <th>5</th>\n",
       "      <td>ONDEP.GR1.5</td>\n",
       "      <td>48.491377</td>\n",
       "      <td>7.288685</td>\n",
       "      <td>713.299571</td>\n",
       "      <td>2024-09-05T11:15:07.390</td>\n",
       "      <td>6.829839e+06</td>\n",
       "      <td>1.016726e+06</td>\n",
       "      <td>664.561276</td>\n",
       "    </tr>\n",
       "  </tbody>\n",
       "</table>\n",
       "</div>"
      ],
      "text/plain": [
       "                 Name   Latitude  Longitude  EllipsoidHeight  \\\n",
       "geophone                                                       \n",
       "1         ONDEP.GR1.1  48.491419   7.288735       713.297247   \n",
       "2         ONDEP.GR1.2  48.491409   7.288722       713.355544   \n",
       "3         ONDEP.GR1.3  48.491398   7.288709       713.314836   \n",
       "4         ONDEP.GR1.4  48.491388   7.288697       713.351575   \n",
       "5         ONDEP.GR1.5  48.491377   7.288685       713.299571   \n",
       "\n",
       "                        TimeStamp            X             Y            A  \n",
       "geophone                                                                   \n",
       "1         2024-09-05T11:13:58.140  6.829844e+06  1.016730e+06  664.559143  \n",
       "2         2024-09-05T11:14:17.490  6.829843e+06  1.016729e+06  664.617394  \n",
       "3         2024-09-05T11:14:34.570  6.829841e+06  1.016728e+06  664.576637  \n",
       "4         2024-09-05T11:14:51.520  6.829840e+06  1.016727e+06  664.613325  \n",
       "5         2024-09-05T11:15:07.390  6.829839e+06  1.016726e+06  664.561276  "
      ]
     },
     "execution_count": 2,
     "metadata": {},
     "output_type": "execute_result"
    }
   ],
   "source": [
    "gnss = pd.read_csv('MUCKENBACH_OP_2024.csv')\n",
    "gnss['geophone'] = gnss['Name'].map(lambda e: int(e.split('.')[-1]))\n",
    "gnss = gnss.set_index('geophone')\n",
    "gnss = gnss.sort_index()\n",
    "gnss.head()"
   ]
  },
  {
   "cell_type": "code",
   "execution_count": 3,
   "id": "889fc306",
   "metadata": {},
   "outputs": [
    {
     "data": {
      "text/plain": [
       "Text(0, 0.5, 'Northing (m)')"
      ]
     },
     "execution_count": 3,
     "metadata": {},
     "output_type": "execute_result"
    },
    {
     "data": {
      "image/png": "[encoded data removed]",
      "text/plain": [
       "<Figure size 800x600 with 2 Axes>"
      ]
     },
     "metadata": {},
     "output_type": "display_data"
    }
   ],
   "source": [
    "fig, ax = plt.subplots(1, 1, figsize=(8, 6))\n",
    "for k, row in enumerate(gnss.iterrows()):\n",
    "    k, serie = row\n",
    "    plt.annotate(k, (serie[' Y '], serie[' X ']))\n",
    "ax.set_aspect('equal', adjustable='box')\n",
    "\n",
    "im = plt.scatter(gnss[' Y '], gnss[' X '], c=gnss['A'])\n",
    "cb = plt.colorbar(im, label='Altitude [m]')\n",
    "\n",
    "ax.get_yaxis().get_major_formatter().set_useOffset(False)\n",
    "ax.get_xaxis().get_major_formatter().set_useOffset(False)\n",
    "plt.xticks(rotation=90)\n",
    "plt.xlabel('Easting (m)')\n",
    "plt.ylabel('Northing (m)')"
   ]
  },
  {
   "cell_type": "code",
   "execution_count": 4,
   "id": "7cdc1dd1-8d02-4326-9bde-3a027f2acd0e",
   "metadata": {},
   "outputs": [
    {
     "data": {
      "text/html": [
       "<div>\n",
       "<style scoped>\n",
       "    .dataframe tbody tr th:only-of-type {\n",
       "        vertical-align: middle;\n",
       "    }\n",
       "\n",
       "    .dataframe tbody tr th {\n",
       "        vertical-align: top;\n",
       "    }\n",
       "\n",
       "    .dataframe thead th {\n",
       "        text-align: right;\n",
       "    }\n",
       "</style>\n",
       "<table border=\"1\" class=\"dataframe\">\n",
       "  <thead>\n",
       "    <tr style=\"text-align: right;\">\n",
       "      <th></th>\n",
       "      <th>FB_TIME</th>\n",
       "      <th>FB_TIME_QLTY</th>\n",
       "      <th>OFFSET</th>\n",
       "      <th>REC_ELEV</th>\n",
       "      <th>REC_X</th>\n",
       "      <th>SRC_X</th>\n",
       "    </tr>\n",
       "  </thead>\n",
       "  <tbody>\n",
       "    <tr>\n",
       "      <th>0</th>\n",
       "      <td>51.770000</td>\n",
       "      <td>62.677216</td>\n",
       "      <td>-71.0</td>\n",
       "      <td>5.52</td>\n",
       "      <td>70.5</td>\n",
       "      <td>-0.75</td>\n",
       "    </tr>\n",
       "    <tr>\n",
       "      <th>1</th>\n",
       "      <td>51.554585</td>\n",
       "      <td>13.251684</td>\n",
       "      <td>-69.0</td>\n",
       "      <td>5.41</td>\n",
       "      <td>69.0</td>\n",
       "      <td>-0.75</td>\n",
       "    </tr>\n",
       "    <tr>\n",
       "      <th>2</th>\n",
       "      <td>52.690189</td>\n",
       "      <td>4.282903</td>\n",
       "      <td>-68.0</td>\n",
       "      <td>5.25</td>\n",
       "      <td>67.5</td>\n",
       "      <td>-0.75</td>\n",
       "    </tr>\n",
       "    <tr>\n",
       "      <th>3</th>\n",
       "      <td>53.303646</td>\n",
       "      <td>31.785852</td>\n",
       "      <td>-66.0</td>\n",
       "      <td>5.12</td>\n",
       "      <td>66.0</td>\n",
       "      <td>-0.75</td>\n",
       "    </tr>\n",
       "    <tr>\n",
       "      <th>4</th>\n",
       "      <td>53.610374</td>\n",
       "      <td>40.457558</td>\n",
       "      <td>-65.0</td>\n",
       "      <td>4.95</td>\n",
       "      <td>64.5</td>\n",
       "      <td>-0.75</td>\n",
       "    </tr>\n",
       "  </tbody>\n",
       "</table>\n",
       "</div>"
      ],
      "text/plain": [
       "     FB_TIME  FB_TIME_QLTY  OFFSET  REC_ELEV  REC_X  SRC_X\n",
       "0  51.770000     62.677216   -71.0      5.52   70.5  -0.75\n",
       "1  51.554585     13.251684   -69.0      5.41   69.0  -0.75\n",
       "2  52.690189      4.282903   -68.0      5.25   67.5  -0.75\n",
       "3  53.303646     31.785852   -66.0      5.12   66.0  -0.75\n",
       "4  53.610374     40.457558   -65.0      4.95   64.5  -0.75"
      ]
     },
     "execution_count": 4,
     "metadata": {},
     "output_type": "execute_result"
    }
   ],
   "source": [
    "df = pd.read_csv('picking2.csv')\n",
    "df.head()"
   ]
  },
  {
   "cell_type": "code",
   "execution_count": 5,
   "id": "a0aef288-9074-462d-b78e-19b7fd8b8356",
   "metadata": {},
   "outputs": [],
   "source": [
    "x_geoph = df['REC_X'].unique()\n",
    "x_geoph.sort()\n",
    "x_shots = df['SRC_X'].unique()\n",
    "x_shots.sort()\n",
    "ng = len(df['REC_X'].unique())\n",
    "ns = len(df['SRC_X'].unique())\n",
    "dx = 1.5\n",
    "offset = .75"
   ]
  },
  {
   "cell_type": "code",
   "execution_count": 6,
   "id": "f5f593c7",
   "metadata": {},
   "outputs": [],
   "source": [
    "profil = df[['REC_X', 'REC_ELEV']].drop_duplicates(subset=['REC_X']).values # positions x, z des géophones\n",
    "profil = profil[profil[:, 0].argsort()]"
   ]
  },
  {
   "cell_type": "code",
   "execution_count": 7,
   "id": "8ac5a6b7",
   "metadata": {},
   "outputs": [
    {
     "data": {
      "text/plain": [
       "Text(0, 0.5, 'x [m]')"
      ]
     },
     "execution_count": 7,
     "metadata": {},
     "output_type": "execute_result"
    },
    {
     "data": {
      "image/png": "[encoded data removed]",
      "text/plain": [
       "<Figure size 1200x200 with 1 Axes>"
      ]
     },
     "metadata": {},
     "output_type": "display_data"
    }
   ],
   "source": [
    "fig, ax = plt.subplots(1, 1, figsize=(12, 2))\n",
    "plt.plot(profil[:, 0], profil[:, 1])\n",
    "plt.grid()\n",
    "ax.set_aspect('equal', adjustable='box')\n",
    "plt.xlabel('z [m]')\n",
    "plt.ylabel('x [m]')"
   ]
  },
  {
   "cell_type": "code",
   "execution_count": 8,
   "id": "97ebb15c",
   "metadata": {},
   "outputs": [],
   "source": [
    "x = np.concatenate((x_geoph, x_shots))\n",
    "x.sort()\n",
    "\n",
    "y = np.interp(x, profil[:, 0], profil[:, 1]) # interpolation de l'altitude des capteurs (mesurées) pour estimer celle des sources\n",
    "xy = np.array((x, y)).T # positions de tous les capteurs et receveurs"
   ]
  },
  {
   "cell_type": "code",
   "execution_count": 9,
   "id": "d8c65b2e",
   "metadata": {},
   "outputs": [
    {
     "name": "stdout",
     "output_type": "stream",
     "text": [
      "Nombre de geophones 48\n",
      "Nombre de shots (sources) 49\n",
      "Nombre total de positions 97\n",
      "Nombre total de données 2352\n"
     ]
    }
   ],
   "source": [
    "print('Nombre de geophones', ng)\n",
    "print('Nombre de shots (sources)', ns)\n",
    "print('Nombre total de positions', len(xy))\n",
    "print('Nombre total de données', ns*ng)"
   ]
  },
  {
   "cell_type": "code",
   "execution_count": 10,
   "id": "9cfe0040-d78b-461a-91d3-581d8157d48d",
   "metadata": {},
   "outputs": [],
   "source": [
    "s = np.int64((df['SRC_X'].values+.75)/1.5*2+1) # indices impaires (1, 3...)\n",
    "g = np.int64(df['REC_X'].values/1.5*2+2) # indices pairs (2, 4...)\n",
    "t = df['FB_TIME'].values/1000 +.05 # ms to s"
   ]
  },
  {
   "cell_type": "code",
   "execution_count": 11,
   "id": "6d781ee2",
   "metadata": {},
   "outputs": [],
   "source": [
    "find_index = lambda v: np.where(x == v)[0][0] + 1 # pygimli index starts at 1 instead of 0 in python\n",
    "s = df['SRC_X'].map(find_index).values\n",
    "g = df['REC_X'].map(find_index).values"
   ]
  },
  {
   "cell_type": "code",
   "execution_count": 12,
   "id": "f5f611ad-bd33-468e-8a34-26c2948c5bf7",
   "metadata": {},
   "outputs": [],
   "source": [
    "pos_shots = xy[np.unique(s) - 1]\n",
    "pos_geoph = xy[np.unique(g) - 1]"
   ]
  },
  {
   "cell_type": "code",
   "execution_count": 13,
   "id": "50a07c6a",
   "metadata": {},
   "outputs": [
    {
     "data": {
      "text/plain": [
       "<matplotlib.legend.Legend at 0x7f7517507290>"
      ]
     },
     "execution_count": 13,
     "metadata": {},
     "output_type": "execute_result"
    },
    {
     "data": {
      "image/png": "[encoded data removed]",
      "text/plain": [
       "<Figure size 1200x200 with 1 Axes>"
      ]
     },
     "metadata": {},
     "output_type": "display_data"
    }
   ],
   "source": [
    "fig, ax = plt.subplots(1, 1, figsize=(12, 2))\n",
    "plt.plot(pos_shots[:, 0], pos_shots[:, 1], '*', label='Shots')\n",
    "plt.plot(pos_geoph[:, 0], pos_geoph[:, 1], '^', label='Géophones')\n",
    "plt.grid()\n",
    "ax.set_aspect('equal', adjustable='box')\n",
    "plt.xlabel('x [m]')\n",
    "plt.ylabel('z [m]')\n",
    "plt.xlim(-1, 72)\n",
    "plt.ylim(-2, 8)\n",
    "plt.legend()"
   ]
  },
  {
   "cell_type": "code",
   "execution_count": 14,
   "id": "f7c2f15c-5da0-43c6-8251-52713a8a706c",
   "metadata": {},
   "outputs": [],
   "source": [
    "with open('data.sgt', 'w') as f:\n",
    "    f.write(f'{len(xy)} # shot/geophone points\\n')\n",
    "    f.write('#x\ty\\n')\n",
    "    #f.write(open('xy', 'r').read())\n",
    "    for pos in xy:\n",
    "        x, y = pos\n",
    "        f.write(f'{x} {y}\\n')\n",
    "    f.write(f'{len(t)} # measurements\\n')\n",
    "    f.write('#s\tg\tt\\n')\n",
    "    #f.write(open('sgt', 'r').read())\n",
    "    for i in range(len(t)):\n",
    "        f.write(f'{s[i]} {g[i]} {t[i]}\\n')"
   ]
  },
  {
   "cell_type": "code",
   "execution_count": 15,
   "id": "43ad4122",
   "metadata": {},
   "outputs": [],
   "source": [
    "def scatterplt(choosen_shot=12.75, geophones=[0, -1]):\n",
    "    \n",
    "    ii = np.where(xy[s-1][:, 0] == choosen_shot)\n",
    "    xgeoph = xy[g[ii]-1][:, 0]\n",
    "    times = t[ii]\n",
    "    jj = np.where((xgeoph >= geophones[0]) & (xgeoph <= geophones[1]))\n",
    "    xreg = xgeoph[jj]\n",
    "    tslice = times[jj]\n",
    "    slope, intercept, r, p, std_err = stats.linregress(xreg, tslice)\n",
    "    treg = slope * xreg + intercept\n",
    "    print(f'v={1/slope} m/s')\n",
    "    \n",
    "    fig, ax = plt.subplots(1, 1, figsize=(12, 2))\n",
    "    \n",
    "    ax.scatter(choosen_shot, 0, c='red', marker='*')\n",
    "    ax.scatter(xgeoph, [0]*len(xgeoph), c='green', marker='^')\n",
    "    ax.scatter(xgeoph, times, c='black', marker='+')\n",
    "    plt.axvline(geophones[0], linestyle=':', color='grey')\n",
    "    plt.axvline(geophones[1], linestyle=':', color='grey')\n",
    "    ax.plot(xreg, treg, c='blue', label=f'v={np.abs(1/slope):.1f} m/s')\n",
    "    ax.set_xlabel('Distance [m]')\n",
    "    ax.set_ylabel('Traveltime [m]')\n",
    "    ax.legend()\n",
    "    ax.invert_yaxis()\n",
    "    \n",
    "    plt.show()"
   ]
  },
  {
   "cell_type": "code",
   "execution_count": 16,
   "id": "4dcd8d98",
   "metadata": {},
   "outputs": [
    {
     "name": "stderr",
     "output_type": "stream",
     "text": [
      "Widget Javascript not detected.  It may not be installed or enabled properly. Reconnecting the current kernel may help.\n"
     ]
    },
    {
     "data": {
      "application/vnd.jupyter.widget-view+json": {
       "model_id": "c0dbd6f7d3994069af59767672916e49"
      }
     },
     "metadata": {},
     "output_type": "display_data"
    }
   ],
   "source": [
    "interactive_plot = interactive(scatterplt, choosen_shot=widgets.SelectionSlider(\n",
    "    options=list(x_shots),\n",
    "    value=x_shots[ns//2],\n",
    "    description='Position du shot',\n",
    "    disabled=False,\n",
    "    continuous_update=False,\n",
    "    orientation='horizontal',\n",
    "    readout=True\n",
    "), geophones=widgets.IntRangeSlider(\n",
    "    value=[x_geoph[0], x_geoph[ng//3]],\n",
    "    min=np.min(x_geoph),\n",
    "    max=np.max(x_geoph),\n",
    "    step=dx,\n",
    "    description='Geophones',\n",
    "    disabled=False,\n",
    "    continuous_update=True,\n",
    "    orientation='horizontal',\n",
    "    readout=True,\n",
    "))\n",
    "interactive_plot"
   ]
  },
  {
   "cell_type": "code",
   "execution_count": null,
   "id": "495409d5",
   "metadata": {},
   "outputs": [],
   "source": []
  }
 ],
 "metadata": {
  "kernelspec": {
   "display_name": "Python 3 (ipykernel)",
   "language": "python",
   "name": "python3"
  },
  "language_info": {
   "codemirror_mode": {
    "name": "ipython",
    "version": 3
   },
   "file_extension": ".py",
   "mimetype": "text/x-python",
   "name": "python",
   "nbconvert_exporter": "python",
   "pygments_lexer": "ipython3",
   "version": "3.11.2"
  }
 },
 "nbformat": 4,
 "nbformat_minor": 5
}
